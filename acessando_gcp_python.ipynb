{
  "nbformat": 4,
  "nbformat_minor": 0,
  "metadata": {
    "colab": {
      "provenance": [],
      "authorship_tag": "ABX9TyO8xI7EoCwSXEc8yb2ZUcQs",
      "include_colab_link": true
    },
    "kernelspec": {
      "name": "python3",
      "display_name": "Python 3"
    },
    "language_info": {
      "name": "python"
    }
  },
  "cells": [
    {
      "cell_type": "markdown",
      "metadata": {
        "id": "view-in-github",
        "colab_type": "text"
      },
      "source": [
        "<a href=\"https://colab.research.google.com/github/samugusman/MeuProjeto/blob/main/acessando_gcp_python.ipynb\" target=\"_parent\"><img src=\"https://colab.research.google.com/assets/colab-badge.svg\" alt=\"Open In Colab\"/></a>"
      ]
    },
    {
      "cell_type": "code",
      "execution_count": 5,
      "metadata": {
        "id": "JCK8Po-XFegS"
      },
      "outputs": [],
      "source": [
        "from google.colab import auth\n",
        "auth.authenticate_user()"
      ]
    },
    {
      "cell_type": "code",
      "source": [
        "from google.cloud import storage"
      ],
      "metadata": {
        "id": "1UhfXNvUGEpH"
      },
      "execution_count": 6,
      "outputs": []
    },
    {
      "cell_type": "code",
      "source": [
        "project_id = 'projeto-alura-476600'\n",
        "bucket_name = 'fundamentos_nuvem_00'\n",
        "file_name = 'BR.json'"
      ],
      "metadata": {
        "id": "cfhh7JM3GOzA"
      },
      "execution_count": 7,
      "outputs": []
    },
    {
      "cell_type": "code",
      "source": [
        "client_gcs = storage.Client(project = project_id)\n",
        "\n",
        "bucket = client_gcs.bucket(bucket_name)\n",
        "\n",
        "blob = bucket.blob(file_name)"
      ],
      "metadata": {
        "id": "J7Cxjq8zG61f"
      },
      "execution_count": 8,
      "outputs": []
    },
    {
      "cell_type": "code",
      "source": [
        "file_content_str = blob.download_as_text()\n",
        "\n",
        "print(f'Conteudo do arquivo {file_name}')\n",
        "print(file_content_str)"
      ],
      "metadata": {
        "colab": {
          "base_uri": "https://localhost:8080/"
        },
        "id": "NPeTjZGiHSUf",
        "outputId": "d5610626-ea72-4120-b02c-860862283ceb"
      },
      "execution_count": 9,
      "outputs": [
        {
          "output_type": "stream",
          "name": "stdout",
          "text": [
            "Conteudo do arquivo BR.json\n",
            "[{\"date\":\"2025-01-01\",\"localName\":\"Confraternização Universal\",\"name\":\"New Year's Day\",\"countryCode\":\"BR\",\"fixed\":false,\"global\":true,\"counties\":null,\"launchYear\":null,\"types\":[\"Public\"]},{\"date\":\"2025-03-03\",\"localName\":\"Carnaval\",\"name\":\"Carnival\",\"countryCode\":\"BR\",\"fixed\":false,\"global\":true,\"counties\":null,\"launchYear\":null,\"types\":[\"Bank\",\"Optional\"]},{\"date\":\"2025-03-04\",\"localName\":\"Carnaval\",\"name\":\"Carnival\",\"countryCode\":\"BR\",\"fixed\":false,\"global\":true,\"counties\":null,\"launchYear\":null,\"types\":[\"Bank\",\"Optional\"]},{\"date\":\"2025-04-18\",\"localName\":\"Sexta-feira Santa\",\"name\":\"Good Friday\",\"countryCode\":\"BR\",\"fixed\":false,\"global\":true,\"counties\":null,\"launchYear\":null,\"types\":[\"Public\"]},{\"date\":\"2025-04-20\",\"localName\":\"Domingo de Páscoa\",\"name\":\"Easter Sunday\",\"countryCode\":\"BR\",\"fixed\":false,\"global\":true,\"counties\":null,\"launchYear\":null,\"types\":[\"Public\"]},{\"date\":\"2025-04-21\",\"localName\":\"Dia de Tiradentes\",\"name\":\"Tiradentes\",\"countryCode\":\"BR\",\"fixed\":false,\"global\":true,\"counties\":null,\"launchYear\":null,\"types\":[\"Public\"]},{\"date\":\"2025-05-01\",\"localName\":\"Dia do Trabalhador\",\"name\":\"Labour Day\",\"countryCode\":\"BR\",\"fixed\":false,\"global\":true,\"counties\":null,\"launchYear\":null,\"types\":[\"Public\"]},{\"date\":\"2025-06-19\",\"localName\":\"Corpus Christi\",\"name\":\"Corpus Christi\",\"countryCode\":\"BR\",\"fixed\":false,\"global\":true,\"counties\":null,\"launchYear\":null,\"types\":[\"Public\"]},{\"date\":\"2025-07-09\",\"localName\":\"Revolução Constitucionalista de 1932\",\"name\":\"Constitutionalist Revolution of 1932\",\"countryCode\":\"BR\",\"fixed\":false,\"global\":false,\"counties\":[\"BR-SP\"],\"launchYear\":null,\"types\":[\"Public\"]},{\"date\":\"2025-09-07\",\"localName\":\"Dia da Independência\",\"name\":\"Independence Day\",\"countryCode\":\"BR\",\"fixed\":false,\"global\":true,\"counties\":null,\"launchYear\":null,\"types\":[\"Public\"]},{\"date\":\"2025-10-12\",\"localName\":\"Nossa Senhora Aparecida\",\"name\":\"Our Lady of Aparecida\",\"countryCode\":\"BR\",\"fixed\":false,\"global\":true,\"counties\":null,\"launchYear\":null,\"types\":[\"Public\"]},{\"date\":\"2025-11-02\",\"localName\":\"Dia de Finados\",\"name\":\"All Souls' Day\",\"countryCode\":\"BR\",\"fixed\":false,\"global\":true,\"counties\":null,\"launchYear\":null,\"types\":[\"Public\"]},{\"date\":\"2025-11-15\",\"localName\":\"Proclamação da República\",\"name\":\"Republic Proclamation Day\",\"countryCode\":\"BR\",\"fixed\":false,\"global\":true,\"counties\":null,\"launchYear\":null,\"types\":[\"Public\"]},{\"date\":\"2025-11-20\",\"localName\":\"Dia da Consciência Negra\",\"name\":\"Black Awareness Day\",\"countryCode\":\"BR\",\"fixed\":false,\"global\":true,\"counties\":null,\"launchYear\":null,\"types\":[\"Public\"]},{\"date\":\"2025-12-25\",\"localName\":\"Natal\",\"name\":\"Christmas Day\",\"countryCode\":\"BR\",\"fixed\":false,\"global\":true,\"counties\":null,\"launchYear\":null,\"types\":[\"Public\"]}]\n"
          ]
        }
      ]
    },
    {
      "cell_type": "code",
      "source": [
        "file_content_str"
      ],
      "metadata": {
        "colab": {
          "base_uri": "https://localhost:8080/",
          "height": 157
        },
        "id": "hWiGc0raHkL-",
        "outputId": "2fc4bd5e-98bd-4f14-d6db-b32f2d69c57a"
      },
      "execution_count": 10,
      "outputs": [
        {
          "output_type": "execute_result",
          "data": {
            "text/plain": [
              "'[{\"date\":\"2025-01-01\",\"localName\":\"Confraternização Universal\",\"name\":\"New Year\\'s Day\",\"countryCode\":\"BR\",\"fixed\":false,\"global\":true,\"counties\":null,\"launchYear\":null,\"types\":[\"Public\"]},{\"date\":\"2025-03-03\",\"localName\":\"Carnaval\",\"name\":\"Carnival\",\"countryCode\":\"BR\",\"fixed\":false,\"global\":true,\"counties\":null,\"launchYear\":null,\"types\":[\"Bank\",\"Optional\"]},{\"date\":\"2025-03-04\",\"localName\":\"Carnaval\",\"name\":\"Carnival\",\"countryCode\":\"BR\",\"fixed\":false,\"global\":true,\"counties\":null,\"launchYear\":null,\"types\":[\"Bank\",\"Optional\"]},{\"date\":\"2025-04-18\",\"localName\":\"Sexta-feira Santa\",\"name\":\"Good Friday\",\"countryCode\":\"BR\",\"fixed\":false,\"global\":true,\"counties\":null,\"launchYear\":null,\"types\":[\"Public\"]},{\"date\":\"2025-04-20\",\"localName\":\"Domingo de Páscoa\",\"name\":\"Easter Sunday\",\"countryCode\":\"BR\",\"fixed\":false,\"global\":true,\"counties\":null,\"launchYear\":null,\"types\":[\"Public\"]},{\"date\":\"2025-04-21\",\"localName\":\"Dia de Tiradentes\",\"name\":\"Tiradentes\",\"countryCode\":\"BR\",\"fixed\":false,\"global\":true,\"counties\":null,\"launchYear\":null,\"types\":[\"Public\"]},{\"date\":\"2025-05-01\",\"localName\":\"Dia do Trabalhador\",\"name\":\"Labour Day\",\"countryCode\":\"BR\",\"fixed\":false,\"global\":true,\"counties\":null,\"launchYear\":null,\"types\":[\"Public\"]},{\"date\":\"2025-06-19\",\"localName\":\"Corpus Christi\",\"name\":\"Corpus Christi\",\"countryCode\":\"BR\",\"fixed\":false,\"global\":true,\"counties\":null,\"launchYear\":null,\"types\":[\"Public\"]},{\"date\":\"2025-07-09\",\"localName\":\"Revolução Constitucionalista de 1932\",\"name\":\"Constitutionalist Revolution of 1932\",\"countryCode\":\"BR\",\"fixed\":false,\"global\":false,\"counties\":[\"BR-SP\"],\"launchYear\":null,\"types\":[\"Public\"]},{\"date\":\"2025-09-07\",\"localName\":\"Dia da Independência\",\"name\":\"Independence Day\",\"countryCode\":\"BR\",\"fixed\":false,\"global\":true,\"counties\":null,\"launchYear\":null,\"types\":[\"Public\"]},{\"date\":\"2025-10-12\",\"localName\":\"Nossa Senhora Aparecida\",\"name\":\"Our Lady of Aparecida\",\"countryCode\":\"BR\",\"fixed\":false,\"global\":true,\"counties\":null,\"launchYear\":null,\"types\":[\"Public\"]},{\"date\":\"2025-11-02\",\"localName\":\"Dia de Finados\",\"name\":\"All Souls\\' Day\",\"countryCode\":\"BR\",\"fixed\":false,\"global\":true,\"counties\":null,\"launchYear\":null,\"types\":[\"Public\"]},{\"date\":\"2025-11-15\",\"localName\":\"Proclamação da República\",\"name\":\"Republic Proclamation Day\",\"countryCode\":\"BR\",\"fixed\":false,\"global\":true,\"counties\":null,\"launchYear\":null,\"types\":[\"Public\"]},{\"date\":\"2025-11-20\",\"localName\":\"Dia da Consciência Negra\",\"name\":\"Black Awareness Day\",\"countryCode\":\"BR\",\"fixed\":false,\"global\":true,\"counties\":null,\"launchYear\":null,\"types\":[\"Public\"]},{\"date\":\"2025-12-25\",\"localName\":\"Natal\",\"name\":\"Christmas Day\",\"countryCode\":\"BR\",\"fixed\":false,\"global\":true,\"counties\":null,\"launchYear\":null,\"types\":[\"Public\"]}]'"
            ],
            "application/vnd.google.colaboratory.intrinsic+json": {
              "type": "string"
            }
          },
          "metadata": {},
          "execution_count": 10
        }
      ]
    },
    {
      "cell_type": "code",
      "source": [
        "import json\n",
        "\n",
        "dados_feriados = json.loads(file_content_str)\n",
        "dados_feriados"
      ],
      "metadata": {
        "colab": {
          "base_uri": "https://localhost:8080/"
        },
        "id": "OiHvPn_YHnrd",
        "outputId": "97be111a-0b83-45ab-a3f2-413f7a1f1b5a"
      },
      "execution_count": 13,
      "outputs": [
        {
          "output_type": "execute_result",
          "data": {
            "text/plain": [
              "[{'date': '2025-01-01',\n",
              "  'localName': 'Confraternização Universal',\n",
              "  'name': \"New Year's Day\",\n",
              "  'countryCode': 'BR',\n",
              "  'fixed': False,\n",
              "  'global': True,\n",
              "  'counties': None,\n",
              "  'launchYear': None,\n",
              "  'types': ['Public']},\n",
              " {'date': '2025-03-03',\n",
              "  'localName': 'Carnaval',\n",
              "  'name': 'Carnival',\n",
              "  'countryCode': 'BR',\n",
              "  'fixed': False,\n",
              "  'global': True,\n",
              "  'counties': None,\n",
              "  'launchYear': None,\n",
              "  'types': ['Bank', 'Optional']},\n",
              " {'date': '2025-03-04',\n",
              "  'localName': 'Carnaval',\n",
              "  'name': 'Carnival',\n",
              "  'countryCode': 'BR',\n",
              "  'fixed': False,\n",
              "  'global': True,\n",
              "  'counties': None,\n",
              "  'launchYear': None,\n",
              "  'types': ['Bank', 'Optional']},\n",
              " {'date': '2025-04-18',\n",
              "  'localName': 'Sexta-feira Santa',\n",
              "  'name': 'Good Friday',\n",
              "  'countryCode': 'BR',\n",
              "  'fixed': False,\n",
              "  'global': True,\n",
              "  'counties': None,\n",
              "  'launchYear': None,\n",
              "  'types': ['Public']},\n",
              " {'date': '2025-04-20',\n",
              "  'localName': 'Domingo de Páscoa',\n",
              "  'name': 'Easter Sunday',\n",
              "  'countryCode': 'BR',\n",
              "  'fixed': False,\n",
              "  'global': True,\n",
              "  'counties': None,\n",
              "  'launchYear': None,\n",
              "  'types': ['Public']},\n",
              " {'date': '2025-04-21',\n",
              "  'localName': 'Dia de Tiradentes',\n",
              "  'name': 'Tiradentes',\n",
              "  'countryCode': 'BR',\n",
              "  'fixed': False,\n",
              "  'global': True,\n",
              "  'counties': None,\n",
              "  'launchYear': None,\n",
              "  'types': ['Public']},\n",
              " {'date': '2025-05-01',\n",
              "  'localName': 'Dia do Trabalhador',\n",
              "  'name': 'Labour Day',\n",
              "  'countryCode': 'BR',\n",
              "  'fixed': False,\n",
              "  'global': True,\n",
              "  'counties': None,\n",
              "  'launchYear': None,\n",
              "  'types': ['Public']},\n",
              " {'date': '2025-06-19',\n",
              "  'localName': 'Corpus Christi',\n",
              "  'name': 'Corpus Christi',\n",
              "  'countryCode': 'BR',\n",
              "  'fixed': False,\n",
              "  'global': True,\n",
              "  'counties': None,\n",
              "  'launchYear': None,\n",
              "  'types': ['Public']},\n",
              " {'date': '2025-07-09',\n",
              "  'localName': 'Revolução Constitucionalista de 1932',\n",
              "  'name': 'Constitutionalist Revolution of 1932',\n",
              "  'countryCode': 'BR',\n",
              "  'fixed': False,\n",
              "  'global': False,\n",
              "  'counties': ['BR-SP'],\n",
              "  'launchYear': None,\n",
              "  'types': ['Public']},\n",
              " {'date': '2025-09-07',\n",
              "  'localName': 'Dia da Independência',\n",
              "  'name': 'Independence Day',\n",
              "  'countryCode': 'BR',\n",
              "  'fixed': False,\n",
              "  'global': True,\n",
              "  'counties': None,\n",
              "  'launchYear': None,\n",
              "  'types': ['Public']},\n",
              " {'date': '2025-10-12',\n",
              "  'localName': 'Nossa Senhora Aparecida',\n",
              "  'name': 'Our Lady of Aparecida',\n",
              "  'countryCode': 'BR',\n",
              "  'fixed': False,\n",
              "  'global': True,\n",
              "  'counties': None,\n",
              "  'launchYear': None,\n",
              "  'types': ['Public']},\n",
              " {'date': '2025-11-02',\n",
              "  'localName': 'Dia de Finados',\n",
              "  'name': \"All Souls' Day\",\n",
              "  'countryCode': 'BR',\n",
              "  'fixed': False,\n",
              "  'global': True,\n",
              "  'counties': None,\n",
              "  'launchYear': None,\n",
              "  'types': ['Public']},\n",
              " {'date': '2025-11-15',\n",
              "  'localName': 'Proclamação da República',\n",
              "  'name': 'Republic Proclamation Day',\n",
              "  'countryCode': 'BR',\n",
              "  'fixed': False,\n",
              "  'global': True,\n",
              "  'counties': None,\n",
              "  'launchYear': None,\n",
              "  'types': ['Public']},\n",
              " {'date': '2025-11-20',\n",
              "  'localName': 'Dia da Consciência Negra',\n",
              "  'name': 'Black Awareness Day',\n",
              "  'countryCode': 'BR',\n",
              "  'fixed': False,\n",
              "  'global': True,\n",
              "  'counties': None,\n",
              "  'launchYear': None,\n",
              "  'types': ['Public']},\n",
              " {'date': '2025-12-25',\n",
              "  'localName': 'Natal',\n",
              "  'name': 'Christmas Day',\n",
              "  'countryCode': 'BR',\n",
              "  'fixed': False,\n",
              "  'global': True,\n",
              "  'counties': None,\n",
              "  'launchYear': None,\n",
              "  'types': ['Public']}]"
            ]
          },
          "metadata": {},
          "execution_count": 13
        }
      ]
    },
    {
      "cell_type": "code",
      "source": [],
      "metadata": {
        "id": "xB3WK629HwVY"
      },
      "execution_count": null,
      "outputs": []
    }
  ]
}